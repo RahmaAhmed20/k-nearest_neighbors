{
  "nbformat": 4,
  "nbformat_minor": 0,
  "metadata": {
    "colab": {
      "provenance": []
    },
    "kernelspec": {
      "name": "python3",
      "display_name": "Python 3"
    },
    "language_info": {
      "name": "python"
    }
  },
  "cells": [
    {
      "cell_type": "code",
      "source": [
        "from sklearn import datasets\n",
        "import numpy as np\n",
        "from sklearn.model_selection import train_test_split\n",
        "from sklearn.preprocessing import StandardScaler\n",
        "# Unpack the iris dataset, from UCI Machine Learning Repository\n",
        "iris = datasets.load_iris()\n",
        "X = iris['data']\n",
        "y = iris['target']\n",
        "# Preprocess data\n",
        "X = StandardScaler().fit_transform(X)\n",
        "# Split data into train & test sets\n",
        "X_train, X_test, y_train, y_test = train_test_split(X, y, test_size=0.2)"
      ],
      "metadata": {
        "id": "QkmqdTqnDdkB"
      },
      "execution_count": 7,
      "outputs": []
    },
    {
      "cell_type": "code",
      "source": [
        "def most_common(lst):\n",
        "    '''Returns the most common element in a list'''\n",
        "    return max(set(lst), key=lst.count)\n",
        "def euclidean(point, data):\n",
        "    '''Euclidean distance between a point  & data'''\n",
        "    return np.sqrt(np.sum((point - data)**2, axis=1))"
      ],
      "metadata": {
        "id": "KXIGE4KsCOnC"
      },
      "execution_count": 1,
      "outputs": []
    },
    {
      "cell_type": "code",
      "source": [
        "class KNNClassifier():\n",
        "    def __init__(self, k=5, dist_metric=euclidean):\n",
        "        self.k = k\n",
        "        self.dist_metric = dist_metric\n",
        "    def fit(self, X_train, y_train):\n",
        "        self.X_train = X_train\n",
        "        self.y_train = y_train\n",
        "    def predict(self, X_test):\n",
        "        neighbors = []\n",
        "        for x in X_test:\n",
        "            distances = self.dist_metric(x, self.X_train)\n",
        "            y_sorted = [y for _, y in sorted(zip(distances, self.y_train))]\n",
        "            neighbors.append(y_sorted[:self.k])\n",
        "        return list(map(most_common, neighbors))\n",
        "    def evaluate(self, X_test, y_test):\n",
        "        y_pred = self.predict(X_test)\n",
        "        accuracy = sum(y_pred == y_test) / len(y_test)\n",
        "        return accuracy"
      ],
      "metadata": {
        "id": "BsboORA_DXUt"
      },
      "execution_count": 2,
      "outputs": []
    },
    {
      "cell_type": "code",
      "source": [
        "aaccuracies = []\n",
        "ks = range(1, 30,3)\n",
        "for k in ks:\n",
        "    knn = KNNClassifier(k=k)\n",
        "    knn.fit(X_train, y_train)\n",
        "    accuracy = knn.evaluate(X_test, y_test)\n",
        "    print(\"k= \" , k , \"accuracy= \", (accuracy * 100))\n",
        "    aaccuracies.append(accuracy)"
      ],
      "metadata": {
        "colab": {
          "base_uri": "https://localhost:8080/"
        },
        "id": "Dv-_Kf74Dcnl",
        "outputId": "c75f05bf-4c55-4c9a-b243-230c1a78c6f8"
      },
      "execution_count": 8,
      "outputs": [
        {
          "output_type": "stream",
          "name": "stdout",
          "text": [
            "k=  1 accuracy=  90.0\n",
            "k=  4 accuracy=  93.33333333333333\n",
            "k=  7 accuracy=  93.33333333333333\n",
            "k=  10 accuracy=  93.33333333333333\n",
            "k=  13 accuracy=  93.33333333333333\n",
            "k=  16 accuracy=  93.33333333333333\n",
            "k=  19 accuracy=  93.33333333333333\n",
            "k=  22 accuracy=  93.33333333333333\n",
            "k=  25 accuracy=  100.0\n",
            "k=  28 accuracy=  100.0\n"
          ]
        }
      ]
    }
  ]
}