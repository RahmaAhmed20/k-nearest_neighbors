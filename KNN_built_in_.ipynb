{
  "nbformat": 4,
  "nbformat_minor": 0,
  "metadata": {
    "colab": {
      "provenance": []
    },
    "kernelspec": {
      "name": "python3",
      "display_name": "Python 3"
    },
    "language_info": {
      "name": "python"
    }
  },
  "cells": [
    {
      "cell_type": "code",
      "source": [
        "from sklearn import datasets\n",
        "import numpy as np\n",
        "from sklearn.model_selection import train_test_split\n",
        "from sklearn.preprocessing import StandardScaler\n",
        "# Unpack the iris dataset, from UCI Machine Learning Repository\n",
        "iris = datasets.load_iris()\n",
        "X = iris['data']\n",
        "y = iris['target']\n",
        "# Preprocess data\n",
        "X = StandardScaler().fit_transform(X)\n",
        "# Split data into train & test sets\n",
        "X_train, X_test, y_train, y_test = train_test_split(X, y, test_size=0.2)"
      ],
      "metadata": {
        "id": "QkmqdTqnDdkB"
      },
      "execution_count": 7,
      "outputs": []
    },
    {
      "cell_type": "code",
      "source": [
        "from sklearn.neighbors import KNeighborsClassifier\n"
      ],
      "metadata": {
        "id": "MfKXtti3KlY-"
      },
      "execution_count": 9,
      "outputs": []
    },
    {
      "cell_type": "code",
      "source": [
        "accuracies = []\n",
        "\n",
        "for k in range(1, 30, 2):\n",
        "  model = KNeighborsClassifier(n_neighbors=k)\n",
        "  model.fit(X_train, y_train)\n",
        "\n",
        "  #Evaluate the Model and Update the Accuracies\n",
        "  score = model.score(X_test, y_test)\n",
        "  print(\"k= \" , k , \"accuracy= \", (score * 100))\n",
        "  accuracies.append(score)"
      ],
      "metadata": {
        "colab": {
          "base_uri": "https://localhost:8080/"
        },
        "id": "tChnHPS5KprP",
        "outputId": "1aa6ba90-978d-4ef9-a507-4a02256d04f4"
      },
      "execution_count": 10,
      "outputs": [
        {
          "output_type": "stream",
          "name": "stdout",
          "text": [
            "k=  1 accuracy=  90.0\n",
            "k=  3 accuracy=  93.33333333333333\n",
            "k=  5 accuracy=  93.33333333333333\n",
            "k=  7 accuracy=  93.33333333333333\n",
            "k=  9 accuracy=  93.33333333333333\n",
            "k=  11 accuracy=  93.33333333333333\n",
            "k=  13 accuracy=  93.33333333333333\n",
            "k=  15 accuracy=  93.33333333333333\n",
            "k=  17 accuracy=  93.33333333333333\n",
            "k=  19 accuracy=  93.33333333333333\n",
            "k=  21 accuracy=  93.33333333333333\n",
            "k=  23 accuracy=  96.66666666666667\n",
            "k=  25 accuracy=  100.0\n",
            "k=  27 accuracy=  100.0\n",
            "k=  29 accuracy=  100.0\n"
          ]
        }
      ]
    }
  ]
}